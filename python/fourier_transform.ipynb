{
 "cells": [
  {
   "cell_type": "code",
   "execution_count": null,
   "id": "charming-thomas",
   "metadata": {},
   "outputs": [],
   "source": [
    "import numpy as np\n",
    "from matplotlib import pyplot as plt\n",
    "\n",
    "def eval_poly(x, coeffs):\n",
    "    y = 0\n",
    "    for i, a in enumerate(coeffs):\n",
    "        y += a * x ** i\n",
    "        \n",
    "    return y\n",
    "\n",
    "coefficients = [8, 0, 7, 0, 0, 2, 0, 3]\n",
    "len(coefficients)\n",
    "x = np.linspace(0, 9, 10)\n",
    "# plt.plot(x, eval_poly(x, coefficients))\n",
    "eval_poly(2, coefficients)"
   ]
  },
  {
   "cell_type": "code",
   "execution_count": null,
   "id": "knowing-gates",
   "metadata": {},
   "outputs": [],
   "source": [
    "from scipy.linalg import dft\n",
    "np.set_printoptions(precision=2, suppress=True)  # for compact output\n",
    "\n",
    "n = 8\n",
    "m = dft(n)\n",
    "\n",
    "# Compute DFT of coefficients\n",
    "samples = m @ coefficients"
   ]
  },
  {
   "cell_type": "code",
   "execution_count": null,
   "id": "closing-taiwan",
   "metadata": {},
   "outputs": [],
   "source": [
    "# The inverse of DFT matrix m is 1/n * complex_conjugate(m)\n",
    "def m_inverse():\n",
    "    return 1/n * np.matrix.conjugate(m)\n",
    "\n",
    "# Verify that the inverse is correct\n",
    "np.allclose(coefficients, m_inverse() @ samples)"
   ]
  },
  {
   "cell_type": "code",
   "execution_count": null,
   "id": "invisible-copying",
   "metadata": {},
   "outputs": [],
   "source": [
    "from scipy.fft import fft\n",
    "from scipy.fft import ifft\n",
    "\n",
    "# Compute DFT of coefficients using FFT\n",
    "f = fft(coefficients)"
   ]
  },
  {
   "cell_type": "code",
   "execution_count": null,
   "id": "measured-faculty",
   "metadata": {},
   "outputs": [],
   "source": [
    "# Verify that fft + ifft is same as original\n",
    "np.allclose(coefficients, ifft(f))"
   ]
  }
 ],
 "metadata": {
  "language_info": {
   "name": "python",
   "pygments_lexer": "ipython3"
  }
 },
 "nbformat": 4,
 "nbformat_minor": 5
}
